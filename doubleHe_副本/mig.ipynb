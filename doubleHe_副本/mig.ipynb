{
 "cells": [
  {
   "cell_type": "code",
   "execution_count": 1,
   "metadata": {},
   "outputs": [
    {
     "name": "stderr",
     "output_type": "stream",
     "text": [
      "/Users/hejizhang/anaconda3/envs/py39/lib/python3.9/site-packages/ovito/_extensions/anari.py:2: UserWarning: Did you accidentally install the OVITO package from the PyPI repository in an Anaconda/Miniconda Python interpreter using the 'pip' command? This will likely lead to conflicts with existing libraries in the Anaconda environment, and import of the OVITO module may fail with an error related to the Qt framework. To fix this, please uninstall the ovito pip package by running 'pip uninstall -y ovito PySide6' and then install the OVITO Anaconda package provided by OVITO GmbH. Visit https://docs.ovito.org/python/introduction/installation.html for further instructions. If you would rather like to ignore this warning message, add the following code to the top of your Python script:\n",
      "\n",
      "  import warnings\n",
      "  warnings.filterwarnings('ignore', message='.*OVITO.*PyPI')\n",
      "\n",
      "  import ovito._extensions.pyscript\n"
     ]
    }
   ],
   "source": [
    "from ovito.io import *\n",
    "from ovito.data import *\n",
    "from ovito.modifiers import ExpressionSelectionModifier, DeleteSelectedModifier, \\\n",
    "InvertSelectionModifier, ExpandSelectionModifier\n",
    "#, CoordinationAnalysisModifier, WignerSeitzAnalysisModifier, ClusterAnalysisModifier, ConstructSurfaceModifier,\n",
    "from ovito.pipeline import *\n",
    "import glob\n",
    "import numpy as np\n"
   ]
  },
  {
   "cell_type": "code",
   "execution_count": 2,
   "metadata": {},
   "outputs": [],
   "source": [
    "def NearestModify(Pipeline):\n",
    "    Pipeline.modifiers.append(ExpressionSelectionModifier(expression='ParticleType==2 && ParticleIdentifier==2001'))\n",
    "    Pipeline.modifiers.append(ExpandSelectionModifier(mode=ExpandSelectionModifier.ExpansionMode.Nearest, num_neighbors=4))\n",
    "    Pipeline.modifiers.append(InvertSelectionModifier())\n",
    "    Pipeline.modifiers.append(DeleteSelectedModifier())\n",
    "    return\n",
    "    \n",
    "def Nearest4PID(InputFile, ):\n",
    "    pipeline = import_file(InputFile)\n",
    "    NearestModify(pipeline)\n",
    "    Pid_List = []\n",
    "    for nframe in range(pipeline.source.num_frames):\n",
    "        Data = pipeline.compute(nframe)\n",
    "        Ptype = Data.particles[\"Particle Type\"]\n",
    "        Pid = Data.particles['Particle Identifier']\n",
    "        Pid_tmp = list(Pid[Ptype == 1])\n",
    "        Pid_List.append(Pid_tmp)\n",
    "    return Pid_List\n",
    "\n",
    "def MigrationLabel(Temper, FilePath, ):\n",
    "    Pid_List = []\n",
    "    FileNum = len(glob.glob(f\"{FilePath}/dump_temp*\"))\n",
    "    Time_List = list(range(FileNum*1000+1))\n",
    "    for i in range(1, FileNum+1):\n",
    "        Input_File = f\"{FilePath}/dump_temp.{Temper}.{i}\"  \n",
    "        Pid_tmp = Nearest4PID(Input_File)\n",
    "        if i != 1:\n",
    "            del(Pid_tmp[0])\n",
    "        Pid_List += Pid_tmp\n",
    "    Mig_Label = [0]\n",
    "\n",
    "    for t in range(1, len(Pid_List)):\n",
    "        if set(Pid_List[t-1])==set(Pid_List[t]):\n",
    "            Mig_Label += [0]\n",
    "        else:\n",
    "            Mig_Label += [1]\n",
    "    return Time_List, Mig_Label\n",
    "\n",
    "temper = 300 \n",
    "path = \"./data\"\n",
    "time_series, y_label = MigrationLabel(temper, f\"{path}\")\n",
    "    # save_data = np.column_stack((np.array(time_series), np.array(y_label)))\n",
    "    # np.savetxt(f\"{path}/y_label.txt\", save_data, fmt='%d', header='time mig_label')\n",
    "# def MigrationLabel_fixed(Temper, FilePath, n):\n",
    "#     Pid_List = []\n",
    "#     FileNum = len(glob.glob(f\"{FilePath}/dump_temp*\"))\n",
    "#     Time_List = list(range(FileNum*1000+1))\n",
    "#     for i in range(1, FileNum+1):\n",
    "#         Input_File = f\"{FilePath}/dump_temp.{Temper}.{i}\"  \n",
    "#         Pid_tmp = Nearest4PID(Input_File)\n",
    "#         if i != 1:\n",
    "#             del(Pid_tmp[0])\n",
    "#         Pid_List += Pid_tmp\n",
    "#     Mig_Label = [0]\n",
    "\n",
    "#     for t in range(1, len(Pid_List)-1):\n",
    "#         InterSection = list(set(Pid_List[t-1]) & set(Pid_List[t+1]))\n",
    "#         if len(InterSection) == 4:\n",
    "#             # Check if the Pid_list will return to its original state after n steps\n",
    "#             Mig_Label += [0]\n",
    "#         else:\n",
    "#             if(t+n<len(Pid_List)-1):\n",
    "#                 if set(Pid_List[t+n]) == set(Pid_List[t-1]):\n",
    "#                     Mig_Label += [0]\n",
    "#                 else:\n",
    "#                     Mig_Label += [1]\n",
    "#     Mig_Label += [0]\n",
    "#     return Time_List, Mig_Label\n"
   ]
  },
  {
   "cell_type": "code",
   "execution_count": 3,
   "metadata": {},
   "outputs": [],
   "source": [
    "\n",
    "def get_migration_label(\n",
    "    path:str\n",
    "):\n",
    "    \"\"\"\n",
    "    input: \n",
    "        temperature \n",
    "\n",
    "    return: \n",
    "        mig_label \n",
    "    \"\"\"\n",
    "    with open(path, 'r', encoding='utf-8') as fin:\n",
    "        mig_label = []\n",
    "        for i, line in enumerate(fin.readlines()[1:]):\n",
    "            parts = line.strip().split()\n",
    "            mig_label.append(bool(int(parts[1])))\n",
    "        mig_label = np.array(mig_label)\n",
    "        \n",
    "    # with open(MIGRATION_PATH.format(File='index', Temperature=temperature), 'r', encoding='utf-8') as fin:\n",
    "    #     mig_index = []\n",
    "    #     for i, line in enumerate(fin.readlines()[1:]):\n",
    "    #         mig_index.append(int(line.strip()))\n",
    "    #     mig_index = np.array(mig_index)\n",
    "    return mig_label"
   ]
  },
  {
   "cell_type": "code",
   "execution_count": 4,
   "metadata": {},
   "outputs": [
    {
     "data": {
      "text/plain": [
       "array([False, False, False, ..., False, False, False])"
      ]
     },
     "execution_count": 4,
     "metadata": {},
     "output_type": "execute_result"
    }
   ],
   "source": [
    "get_migration_label('data/y_label_2002.txt')"
   ]
  },
  {
   "cell_type": "code",
   "execution_count": 5,
   "metadata": {},
   "outputs": [],
   "source": [
    "def get_original_data(\n",
    "   path:str\n",
    "):\n",
    "    \"\"\"\n",
    "    input temperature : 温度\n",
    "    \n",
    "    return t, msd, csp, xyz, r_, v_xyz, v_, angle, g\n",
    "\n",
    "    t       时间序列(单位:ps)\n",
    "    msd     单He的msd(均方位移)\n",
    "    csp     CSP(中心对称参数)\n",
    "    xyz     单He的xyz坐标\n",
    "    r_      单He离原点距离\n",
    "    v_xyz   单He的沿xyz坐标的速度分量\n",
    "    v_      单He的速度大小\n",
    "    \"\"\"\n",
    "    with open(path, 'r', encoding='utf-8') as fin:\n",
    "        t = []      # 时间序列(单位:ps)\n",
    "        msd = []    # 单He的msd(均方位移)\n",
    "        csp = []    # CSP(中心对称参数)\n",
    "        xyz = []    # 单He的xyz坐标\n",
    "        r_ = []     # 单He离原点距离\n",
    "        v_xyz = []  # 单He的沿xyz坐标的速度分量\n",
    "        v_ = []     # 单He的速度大小\n",
    "        for i, line in enumerate(fin.readlines()[1:]):\n",
    "            data = list(map(float, line.strip().split(' ')))\n",
    "            t.append(data[0])\n",
    "            msd.append(data[1])\n",
    "            csp.append(data[2:8])\n",
    "            xyz.append(data[8:11])\n",
    "            r_.append(data[11])\n",
    "            v_xyz.append(data[12:15])\n",
    "            v_.append(data[15])\n",
    "\n",
    "    # with open(G_PATH.format(Temperature=temperature), 'r', encoding='utf-8') as fin:\n",
    "    #     g = []      # g参数\n",
    "    #     for i, line in enumerate(fin.readlines()[1:]):\n",
    "    #         data = list(map(float, line.strip().split(' ')))\n",
    "    #         g.append(data[1:7])\n",
    "    indices_to_remove = np.arange(1001, len(t) - 1, 1001)\n",
    "    t = np.array(t)\n",
    "    t = np.delete(t, indices_to_remove)\n",
    "    msd = np.array(msd)\n",
    "    msd = np.delete(msd, indices_to_remove)\n",
    "    csp = np.array(csp)\n",
    "    csp = np.delete(csp, indices_to_remove, axis=0)\n",
    "    xyz = np.array(xyz)\n",
    "    xyz = np.delete(xyz, indices_to_remove, axis=0)\n",
    "    r_ = np.sqrt(np.array(r_))\n",
    "    r_ = np.delete(r_, indices_to_remove)\n",
    "    v_xyz = np.array(v_xyz)\n",
    "    v_xyz = np.delete(v_xyz, indices_to_remove, axis=0)\n",
    "    v_ = np.sqrt(np.array(v_))\n",
    "    v_ = np.delete(v_, indices_to_remove)\n",
    "    angle = np.arccos(v_xyz / v_.reshape(len(t), 1))\n",
    "    # g = np.array(g)\n",
    "\n",
    "    return t, msd, csp, xyz, r_, v_xyz, v_, angle# , g\n"
   ]
  },
  {
   "cell_type": "code",
   "execution_count": 15,
   "metadata": {},
   "outputs": [],
   "source": [
    "data1 = get_original_data('data/timedt.dataHe1.300')\n",
    "data2 = get_original_data('data/timedt.dataHe2.300')"
   ]
  },
  {
   "cell_type": "code",
   "execution_count": 37,
   "metadata": {},
   "outputs": [],
   "source": [
    "label1 = get_migration_label('data/y_label_2001.txt').reshape(-1, 1)\n",
    "label2 = get_migration_label('data/y_label_2002.txt').reshape(-1, 1)\n",
    "labels = np.column_stack((label1, label2))"
   ]
  },
  {
   "cell_type": "code",
   "execution_count": 40,
   "metadata": {},
   "outputs": [],
   "source": [
    "import numpy as np\n",
    "positive10_indices = np.where((labels[:, 0] == 1) & (labels[:, 1] == 0))[0]\n",
    "positive01_indices = np.where((labels[:, 0] == 0) & (labels[:, 1] == 1))[0]\n",
    "positive11_indices = np.where((labels[:, 0] == 1) & (labels[:, 1] == 1))[0]\n",
    "negative_indices = np.where((labels[:, 0] == 0) & (labels[:,1]==0))[0]"
   ]
  },
  {
   "cell_type": "code",
   "execution_count": 41,
   "metadata": {},
   "outputs": [],
   "source": [
    "n_samples = min(len(positive10_indices), len(positive01_indices), len(positive11_indices), len(negative_indices))\n",
    "np.random.shuffle(positive10_indices)\n",
    "np.random.shuffle(positive01_indices)\n",
    "np.random.shuffle(positive11_indices)\n",
    "np.random.shuffle(negative_indices)\n",
    "\n",
    "selected_positive01_indices = positive01_indices[:n_samples]\n",
    "selected_positive10_indices = positive10_indices[:n_samples]\n",
    "selected_positive11_indices = positive11_indices[:n_samples]\n",
    "selected_negative_indices = negative_indices[:n_samples]\n",
    "\n",
    "# 合并并排序索引，以便后续操作\n",
    "selected_indices = np.sort(np.concatenate([selected_positive01_indices, selected_positive10_indices, selected_positive11_indices, selected_negative_indices]))\n"
   ]
  },
  {
   "cell_type": "code",
   "execution_count": null,
   "metadata": {},
   "outputs": [],
   "source": [
    "n_frames = 3  # 每个样本需要包括自身及前2帧\n",
    "\n",
    "final_data = []\n",
    "for idx in selected_indices:\n",
    "    start_idx = max(idx - n_frames + 1, 0)  # 确保索引不会小于0\n",
    "    extracted_data = data[start_idx:idx + 1]  # 从start_idx到idx抽取数据\n",
    "    final_data.append(extracted_data)\n",
    "\n",
    "# 转换为numpy数组，如果需要\n",
    "final_data = np.array(final_data, dtype=object)"
   ]
  }
 ],
 "metadata": {
  "kernelspec": {
   "display_name": "py39",
   "language": "python",
   "name": "python3"
  },
  "language_info": {
   "codemirror_mode": {
    "name": "ipython",
    "version": 3
   },
   "file_extension": ".py",
   "mimetype": "text/x-python",
   "name": "python",
   "nbconvert_exporter": "python",
   "pygments_lexer": "ipython3",
   "version": "3.9.13"
  }
 },
 "nbformat": 4,
 "nbformat_minor": 2
}
