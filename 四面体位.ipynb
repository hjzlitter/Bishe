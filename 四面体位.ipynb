{
 "cells": [
  {
   "cell_type": "markdown",
   "metadata": {},
   "source": [
    "## package "
   ]
  },
  {
   "cell_type": "code",
   "execution_count": 2,
   "metadata": {},
   "outputs": [],
   "source": [
    "import numpy as np\n",
    "import pandas as pd\n",
    "import sys\n",
    "import seaborn as sns\n",
    "from numpy import random\n",
    "\n",
    "from matplotlib import pyplot as plt\n",
    "import sys\n",
    "import time\n",
    "from sklearn.preprocessing import OneHotEncoder\n",
    "import math\n",
    "from sklearn.preprocessing import StandardScaler\n",
    "import original_data\n",
    "# import optuna\n",
    "import torch\n",
    "from torch import nn, optim\n",
    "from torch.nn import functional as F\n",
    "from torch.optim.lr_scheduler import MultiStepLR\n",
    "from torch.utils.data import Dataset, DataLoader"
   ]
  },
  {
   "cell_type": "markdown",
   "metadata": {},
   "source": [
    "## params"
   ]
  },
  {
   "cell_type": "code",
   "execution_count": 3,
   "metadata": {},
   "outputs": [],
   "source": [
    "# ITER_PATH = './Datasets/{train_or_test}_iter_{temperature}.pth'\n",
    "PATH = './He_forecast/model_{model}/'\n",
    "LOSS_PATH = PATH + 'loss_{temperature}.txt'\n",
    "RESULT_PATH = PATH + 'result_{temperature}.txt'\n",
    "MODEL_PATH = PATH + '{model}_{temperature}_{epoch}.pkl'\n",
    "LOG_PATH = 'output/{date}_{information}.txt'\n",
    "LOG_FIGURE_PATH = 'output/{date}_{information}.png'\n",
    "\n",
    "TEMPERATURE = 400\n",
    "LEARNING_RATE = 1e-5\n",
    "TRY_TIMES = 10\n",
    "TEMPERATURE = 400\n",
    "MAX = 1.0\n",
    "MIN = 0.5\n",
    "TIME_LENGTH = 50\n",
    "STRIDE = 5\n",
    "STEADY_LENGTH = 100\n",
    "MIGRATION_LENGTH = 50\n",
    "EMBEDDING_SIZE = 12\n",
    "N_TRIAL = 100\n",
    "INPUT_SIZE = 15\n",
    "BATCH_SIZE = 1024\n",
    "EPOCHS = 1000\n",
    "\n",
    "# DEVICE = torch.device('mps' if torch.cuda.is_available() else 'cpu')\n",
    "\n",
    "DEVICE = torch.device('cuda' if torch.cuda.is_available() else 'cpu')"
   ]
  },
  {
   "cell_type": "markdown",
   "metadata": {},
   "source": [
    "## data process"
   ]
  },
  {
   "cell_type": "code",
   "execution_count": 19,
   "metadata": {},
   "outputs": [],
   "source": [
    "PATH = './data/timedt.data.400'\n",
    "\n",
    "def get_original_data(\n",
    "   path:str\n",
    "):\n",
    "    \"\"\"\n",
    "    input temperature : 温度\n",
    "    \n",
    "    return t, msd, csp, xyz, r_, v_xyz, v_, angle, g\n",
    "\n",
    "    t       时间序列(单位:ps)\n",
    "    msd     单He的msd(均方位移)\n",
    "    csp     CSP(中心对称参数)\n",
    "    xyz     单He的xyz坐标\n",
    "    r_      单He离原点距离\n",
    "    v_xyz   单He的沿xyz坐标的速度分量\n",
    "    v_      单He的速度大小\n",
    "    \"\"\"\n",
    "    with open(path, 'r', encoding='utf-8') as fin:\n",
    "        t = []      # 时间序列(单位:ps)\n",
    "        msd = []    # 单He的msd(均方位移)\n",
    "        csp = []    # CSP(中心对称参数)\n",
    "        xyz = []    # 单He的xyz坐标\n",
    "        r_ = []     # 单He离原点距离\n",
    "        v_xyz = []  # 单He的沿xyz坐标的速度分量\n",
    "        v_ = []     # 单He的速度大小\n",
    "        for i, line in enumerate(fin.readlines()[1:]):\n",
    "            data = list(map(float, line.strip().split(' ')))\n",
    "            t.append(data[0])\n",
    "            msd.append(data[1])\n",
    "            csp.append(data[2:8])\n",
    "            xyz.append(data[8:11])\n",
    "            r_.append(data[11])\n",
    "            v_xyz.append(data[12:15])\n",
    "            v_.append(data[15])\n",
    "\n",
    "    # with open(G_PATH.format(Temperature=temperature), 'r', encoding='utf-8') as fin:\n",
    "    #     g = []      # g参数\n",
    "    #     for i, line in enumerate(fin.readlines()[1:]):\n",
    "    #         data = list(map(float, line.strip().split(' ')))\n",
    "    #         g.append(data[1:7])\n",
    "    # indices_to_remove = np.arange(1001, len(t) - 1, 1001)\n",
    "    t = np.array(t)\n",
    "    # t = np.delete(t, indices_to_remove)\n",
    "    t = t.reshape(-1, 1)\n",
    "    msd = np.array(msd)\n",
    "    # msd = np.delete(msd, indices_to_remove)\n",
    "    msd = msd.reshape(-1, 1)\n",
    "    csp = np.array(csp)\n",
    "    # csp = np.delete(csp, indices_to_remove, axis=0)\n",
    "    xyz = np.array(xyz)\n",
    "    # xyz = np.delete(xyz, indices_to_remove, axis=0)\n",
    "    r_ = np.sqrt(np.array(r_))\n",
    "    # r_ = np.delete(r_, indices_to_remove)\n",
    "    r_ = r_.reshape(-1, 1)\n",
    "    v_xyz = np.array(v_xyz)\n",
    "    # v_xyz = np.delete(v_xyz, indices_to_remove, axis=0)\n",
    "    v_ = np.sqrt(np.array(v_))\n",
    "    # v_ = np.delete(v_, indices_to_remove)\n",
    "    v_ = v_.reshape(-1, 1)\n",
    "    angle = np.arccos(v_xyz / v_.reshape(len(t), 1))\n",
    "    # g = np.array(g)\n",
    "\n",
    "    return t, msd, csp, xyz, r_, v_xyz, v_, angle# , g"
   ]
  },
  {
   "cell_type": "code",
   "execution_count": 49,
   "metadata": {},
   "outputs": [],
   "source": [
    "def get_iter():\n",
    "    train_iter = torch.load(ITER_PATH.format(train_or_test='train', temperature=TEMPERATURE))   \n",
    "    test_iter = torch.laoad(ITER_PATH.format(train_or_test='test', temperature=TEMPERATURE))\n",
    "    return train_iter, test_iter\n",
    "\n",
    "\n",
    "def get_train_iter(\n",
    "    Temperature, \n",
    "    Batch_size, \n",
    "):\n",
    "    y = np.load('MigFaceLabel_400_16.npy')\n",
    "    index = (y[:,0]+y[:,1])//2\n",
    "    # label = original_data.get_migration_label(Temperature)\n",
    "    # index = np.where(label[TIME_LENGTH//2 : -TIME_LENGTH//2])[0] + TIME_LENGTH//2\n",
    "    data_num = len(index)\n",
    "\n",
    "    print(index)\n",
    "    print(data_num)\n",
    "\n",
    "    t, msd, csp, xyz, r_, v_xyz, v_, angle = original_data.get_original_data(Temperature)\n",
    "    sample_size = len(t)\n",
    "    \n",
    "    data = np.hstack((\n",
    "        # msd.reshape((sample_size, 1)), \n",
    "        csp, \n",
    "        xyz, \n",
    "        # r_.reshape((sample_size, 1)), \n",
    "        v_xyz, \n",
    "        # v_.reshape((sample_size, 1)), \n",
    "        angle, \n",
    "        # g\n",
    "    ))\n",
    "    scaler = StandardScaler()\n",
    "    data = scaler.fit_transform(data)\n",
    "    data_X = torch.from_numpy(data)\n",
    "    # print(data_X.shape)\n",
    "    # data_Y = torch.from_numpy(csp[:,5])\n",
    "    y = y[:,2].reshape(-1,1)\n",
    "    encoder = OneHotEncoder(sparse=False)\n",
    "    one_hot = encoder.fit_transform(y)\n",
    "    data_Y = torch.from_numpy(one_hot)\n",
    "    # r_ = torch.from_numpy(r_)\n",
    "    # mean_r = torch.mean(r_)\n",
    "    # std_r = torch.std(r_)\n",
    "    # data_Y = torch.normal(mean=mean_r, std=std_r, size=r_.size())\n",
    "    X = torch.zeros(data_num, TIME_LENGTH, INPUT_SIZE)\n",
    "    Y = torch.zeros(data_num, 4)\n",
    "    \n",
    "    # i=0\n",
    "    #     # for i, idx in enumerate(sample_indices):\n",
    "    # for idx in range(TIME_LENGTH//2, data_X.shape[0]-TIME_LENGTH//2, TIME_LENGTH):\n",
    "    #     X[i, :, :] = data_X[idx-TIME_LENGTH//2 : idx+TIME_LENGTH//2]\n",
    "    #     Y[i]       = data_Y[idx]\n",
    "    #     i+=1\n",
    "    for i in range(data_num):\n",
    "        X[i, :, :] = data_X[index[i]-TIME_LENGTH//2 : index[i]+TIME_LENGTH//2]\n",
    "        Y[i, :]       = data_Y[i]\n",
    "\n",
    "    X = X.float().unsqueeze(1) # [Batch_size, C, H, W]\n",
    "    Y = Y.float() # [Batch_size, H_out]\n",
    "\n",
    "    shuffled_index = np.random.permutation(range(data_num))\n",
    "    X = X[shuffled_index]\n",
    "    Y = Y[shuffled_index]\n",
    "    Train_X, Test_X = X[:int(data_num*0.8)], X[int(data_num*0.8):]\n",
    "    Train_Y, Test_Y = Y[:int(data_num*0.8)], Y[int(data_num*0.8):]\n",
    "\n",
    "    Train_generator = DataLoader(\n",
    "        torch.utils.data.TensorDataset(Train_X, Train_Y), \n",
    "        Batch_size, \n",
    "        shuffle=True\n",
    "    )\n",
    "    Test_generator = DataLoader(\n",
    "        torch.utils.data.TensorDataset(Test_X, Test_Y), \n",
    "        Batch_size, \n",
    "        shuffle=True\n",
    "    )\n",
    "    return Train_generator, Test_generator\n",
    "\n"
   ]
  },
  {
   "cell_type": "markdown",
   "metadata": {},
   "source": [
    "## 网络"
   ]
  },
  {
   "cell_type": "markdown",
   "metadata": {},
   "source": [
    "### CNN网络"
   ]
  },
  {
   "cell_type": "code",
   "execution_count": 50,
   "metadata": {},
   "outputs": [],
   "source": [
    "class CNN(nn.Module):\n",
    "    def __init__(\n",
    "        self, \n",
    "        Channel_in, \n",
    "        Height_in, \n",
    "        Width_in, \n",
    "        Output_size, \n",
    "        Filter_num, \n",
    "        Kernel_list, \n",
    "        dropout = 0.5, \n",
    "    ):\n",
    "        super(CNN, self).__init__()\n",
    "        self.convs = nn.ModuleList([\n",
    "            nn.Sequential(\n",
    "                nn.Conv2d(\n",
    "                    Channel_in, \n",
    "                    Filter_num, \n",
    "                    kernel_size=(kernel, Width_in), \n",
    "                    padding=((kernel - 1) // 2, 0), \n",
    "                ),\n",
    "                nn.ReLU(),\n",
    "                nn.MaxPool2d(\n",
    "                    kernel_size=((Height_in+3)//4, 1), \n",
    "                    stride=(Height_in+3)//4, \n",
    "                    padding=((Height_in-Height_in//4*4+1)//2, 0), \n",
    "                ), \n",
    "            )\n",
    "            for kernel in Kernel_list\n",
    "        ])\n",
    "        self.fc = nn.Sequential(\n",
    "            nn.Dropout(dropout), \n",
    "            nn.Linear(Filter_num * len(Kernel_list) * 4, 64),\n",
    "            nn.ReLU(), \n",
    "            nn.Linear(64, 16), \n",
    "            nn.Linear(16, Output_size)\n",
    "        )\n",
    "\n",
    "    def forward(self, x):\n",
    "        out = [conv(x) for conv in self.convs]\n",
    "        out = torch.cat(out, dim=1)\n",
    "        out = out.view(x.size(0), -1)\n",
    "        out = self.fc(out)\n",
    "        return out\n",
    "\n"
   ]
  },
  {
   "cell_type": "markdown",
   "metadata": {},
   "source": [
    "## train"
   ]
  },
  {
   "cell_type": "markdown",
   "metadata": {},
   "source": [
    "### train and evaluation "
   ]
  },
  {
   "cell_type": "code",
   "execution_count": 51,
   "metadata": {},
   "outputs": [],
   "source": [
    "def train(\n",
    "    net:nn.Module, \n",
    "    Train_generator, \n",
    "    loss_func,\n",
    "    optimizer, \n",
    "    scheduler, \n",
    "    device\n",
    "):\n",
    "    net = net.to(device)\n",
    "    net.train()\n",
    "    sum_loss = []\n",
    "    \n",
    "    Train_generator =  DataLoader(Train_generator.dataset, batch_size=BATCH_SIZE, shuffle=True, pin_memory=False)\n",
    "    for x, y in Train_generator:\n",
    "        x = x.to(device)\n",
    "        y = y.to(device)\n",
    "        optimizer.zero_grad()\n",
    "        scores = net(x)\n",
    "        loss = loss_func(scores, y)\n",
    "        sum_loss.append(loss.item())\n",
    "        loss.backward()\n",
    "        optimizer.step()\n",
    "        scheduler.step()\n",
    "    \n",
    "    return np.array(sum_loss).mean()\n",
    "    \n",
    "def evaluate(\n",
    "    net:nn.Module, \n",
    "    Test_generator, \n",
    "    loss_func,\n",
    "    optimizer, \n",
    "    scheduler, \n",
    "    device\n",
    "):\n",
    "    sum_loss = []\n",
    "    net.eval()\n",
    "    Test_generator = DataLoader(Test_generator.dataset, batch_size=BATCH_SIZE, shuffle=True, pin_memory=False)\n",
    "    for x, y in Test_generator:\n",
    "        x = x.to(device)\n",
    "        y = y.to(device)\n",
    "        scores = net(x)\n",
    "        loss = loss_func(scores, y)\n",
    "        sum_loss.append(loss.item())\n",
    "    \n",
    "    return np.array(sum_loss).mean()"
   ]
  },
  {
   "cell_type": "markdown",
   "metadata": {},
   "source": [
    "### train multi epochs"
   ]
  },
  {
   "cell_type": "code",
   "execution_count": 52,
   "metadata": {},
   "outputs": [],
   "source": [
    "def train_multi_epochs(\n",
    "    net:nn.Module, \n",
    "    Train_generator, \n",
    "    Test_generator,     \n",
    "    loss_func,\n",
    "    optimizer, \n",
    "    scheduler, \n",
    "    epochs, \n",
    "    device, \n",
    "    information:str, \n",
    "    show_train_process=None\n",
    "):\n",
    "    best_epoch = 0\n",
    "    best_test_loss = 9.9e9\n",
    "    best_net = net.state_dict()\n",
    "    sum_train_loss, sum_test_loss = [], []\n",
    "    date0 = time.strftime('%Y-%m-%d %a %H-%M-%S', time.localtime(time.time()))\n",
    "\n",
    "    with open(LOG_PATH.format(date=date0, information=information), 'w') as log_fin:\n",
    "        log_fin.write(information + '\\n')\n",
    "        log_fin.write('epoch' + ' ' + 'train_loss' + ' ' + 'test_loss' + ' ' + 'time' + ' ' + 'best_epoch' + '\\n')\n",
    "        t1 = time.time()\n",
    "        for epoch in range(epochs):\n",
    "            t0 = time.time()\n",
    "            train_loss = train(net, Train_generator, loss_func, optimizer, scheduler, device).item()\n",
    "            test_loss = evaluate(net, Test_generator, loss_func, optimizer, scheduler, device).item()\n",
    "\n",
    "            sum_train_loss.append(train_loss)\n",
    "            sum_test_loss.append(test_loss)\n",
    "\n",
    "            if epoch == 0 or test_loss < best_test_loss:\n",
    "                best_epoch = epoch\n",
    "                best_test_loss = test_loss\n",
    "                best_net = net.state_dict()\n",
    "\n",
    "            log_fin.write(str(epoch) + ' ' + str(train_loss) + ' ' + str(test_loss) + ' ' + str(time.time()-t0) + ' ' + str(best_epoch) + '\\n')\n",
    "            if show_train_process != None and epoch % show_train_process == 0:\n",
    "                print('epoch={:>4}, train_loss= {:.4f}, test_loss= {:.4f}, time= {:.2f}sec, best_epoch= {:>4}'.format(epoch, train_loss, test_loss, time.time()-t1, best_epoch))\n",
    "                t1 = time.time()\n",
    "        \n",
    "        log_fin.write('\\n')\n",
    "        log_fin.write('best_epoch=' + str(best_epoch) + '\\n')\n",
    "        log_fin.write('best_test_loss=' + str(best_test_loss) + '\\n')\n",
    "    return best_test_loss, best_epoch, best_net, sum_train_loss, sum_test_loss\n"
   ]
  },
  {
   "cell_type": "markdown",
   "metadata": {},
   "source": [
    "### singal train CNN"
   ]
  },
  {
   "cell_type": "code",
   "execution_count": 54,
   "metadata": {},
   "outputs": [],
   "source": [
    "def singal_train_CNN(lr=LEARNING_RATE, ga=0.5, dropout=0.5):\n",
    "    t1 = time.time()\n",
    "    train_iter, test_iter = get_train_iter(TEMPERATURE, BATCH_SIZE)\n",
    "    criteon = nn.CrossEntropyLoss().to(DEVICE)\n",
    "    net = CNN(1, TIME_LENGTH, INPUT_SIZE, 4, 32, [9, 7, 5, 3], dropout)\n",
    "    optimizer = optim.Adam(net.parameters(), lr=LEARNING_RATE, weight_decay=0)\n",
    "    scheduler = MultiStepLR(optimizer, [int(EPOCHS*0.2), int(EPOCHS*0.4)], ga, last_epoch=-1)\n",
    "\n",
    "    best_test_loss, best_epoch, best_net, multi_train_loss, multi_test_loss = train_multi_epochs(net, train_iter, test_iter, criteon, optimizer, scheduler, EPOCHS, DEVICE, 'Temperature={}'.format(TEMPERATURE), show_train_process=10)\n",
    "    torch.save(best_net, f'./He_forecast/best_model_{t1}.pth')\n",
    "    print('best_test_loss= {:.4f}, best_epoch= {:>4}, time= {:.2f}sec'.format(best_test_loss, best_epoch, time.time()-t1))\n",
    "\n",
    "    plt.plot(multi_train_loss)\n",
    "    plt.plot(multi_test_loss)\n",
    "    plt.show()\n",
    "    \n",
    "    return best_test_loss"
   ]
  },
  {
   "cell_type": "code",
   "execution_count": 55,
   "metadata": {},
   "outputs": [
    {
     "name": "stdout",
     "output_type": "stream",
     "text": [
      "[   490    540    611 ... 999382 999464 999536]\n",
      "6581\n"
     ]
    },
    {
     "name": "stderr",
     "output_type": "stream",
     "text": [
      "/root/miniconda3/lib/python3.8/site-packages/sklearn/preprocessing/_encoders.py:975: FutureWarning: `sparse` was renamed to `sparse_output` in version 1.2 and will be removed in 1.4. `sparse_output` is ignored unless you leave `sparse` to its default value.\n",
      "  warnings.warn(\n"
     ]
    },
    {
     "name": "stdout",
     "output_type": "stream",
     "text": [
      "epoch=   0, train_loss= 1.2922, test_loss= 1.2979, time= 0.08sec, best_epoch=    0\n",
      "epoch=  10, train_loss= 1.2611, test_loss= 1.2599, time= 0.71sec, best_epoch=   10\n",
      "epoch=  20, train_loss= 1.2220, test_loss= 1.2195, time= 0.59sec, best_epoch=   20\n",
      "epoch=  30, train_loss= 1.1828, test_loss= 1.1929, time= 0.71sec, best_epoch=   28\n",
      "epoch=  40, train_loss= 1.1627, test_loss= 1.1529, time= 0.69sec, best_epoch=   40\n",
      "epoch=  50, train_loss= 1.1482, test_loss= 1.1366, time= 0.60sec, best_epoch=   50\n",
      "epoch=  60, train_loss= 1.1417, test_loss= 1.1430, time= 0.71sec, best_epoch=   56\n",
      "epoch=  70, train_loss= 1.1200, test_loss= 1.1087, time= 0.60sec, best_epoch=   70\n",
      "epoch=  80, train_loss= 1.1275, test_loss= 1.1164, time= 0.69sec, best_epoch=   76\n",
      "epoch=  90, train_loss= 1.1129, test_loss= 1.0991, time= 0.71sec, best_epoch=   81\n",
      "epoch= 100, train_loss= 1.1208, test_loss= 1.1177, time= 0.60sec, best_epoch=   95\n",
      "epoch= 110, train_loss= 1.1055, test_loss= 1.0744, time= 0.69sec, best_epoch=  110\n",
      "epoch= 120, train_loss= 1.1094, test_loss= 1.0792, time= 0.70sec, best_epoch=  110\n",
      "epoch= 130, train_loss= 1.0976, test_loss= 1.0886, time= 0.60sec, best_epoch=  128\n",
      "epoch= 140, train_loss= 1.0798, test_loss= 1.0706, time= 0.72sec, best_epoch=  135\n",
      "epoch= 150, train_loss= 1.0841, test_loss= 1.0735, time= 0.70sec, best_epoch=  145\n",
      "epoch= 160, train_loss= 1.0895, test_loss= 1.0779, time= 0.59sec, best_epoch=  145\n",
      "epoch= 170, train_loss= 1.0858, test_loss= 1.0728, time= 0.69sec, best_epoch=  164\n",
      "epoch= 180, train_loss= 1.1058, test_loss= 1.0730, time= 0.70sec, best_epoch=  164\n",
      "epoch= 190, train_loss= 1.0975, test_loss= 1.0651, time= 0.61sec, best_epoch=  164\n",
      "epoch= 200, train_loss= 1.1011, test_loss= 1.0734, time= 0.69sec, best_epoch=  195\n",
      "epoch= 210, train_loss= 1.0925, test_loss= 1.0745, time= 0.69sec, best_epoch=  195\n",
      "epoch= 220, train_loss= 1.0797, test_loss= 1.0690, time= 0.59sec, best_epoch=  195\n",
      "epoch= 230, train_loss= 1.0904, test_loss= 1.0660, time= 0.70sec, best_epoch=  195\n",
      "epoch= 240, train_loss= 1.0931, test_loss= 1.0733, time= 0.68sec, best_epoch=  195\n",
      "epoch= 250, train_loss= 1.0848, test_loss= 1.0577, time= 0.58sec, best_epoch=  195\n",
      "epoch= 260, train_loss= 1.0916, test_loss= 1.0737, time= 0.67sec, best_epoch=  195\n",
      "epoch= 270, train_loss= 1.0811, test_loss= 1.0906, time= 0.68sec, best_epoch=  195\n",
      "epoch= 280, train_loss= 1.0836, test_loss= 1.0728, time= 0.58sec, best_epoch=  195\n",
      "epoch= 290, train_loss= 1.0796, test_loss= 1.0472, time= 0.67sec, best_epoch=  195\n",
      "epoch= 300, train_loss= 1.0757, test_loss= 1.0613, time= 0.68sec, best_epoch=  292\n",
      "epoch= 310, train_loss= 1.0743, test_loss= 1.0624, time= 0.59sec, best_epoch=  292\n",
      "epoch= 320, train_loss= 1.0821, test_loss= 1.0681, time= 0.68sec, best_epoch=  315\n",
      "epoch= 330, train_loss= 1.0934, test_loss= 1.0778, time= 0.69sec, best_epoch=  315\n",
      "epoch= 340, train_loss= 1.0855, test_loss= 1.0581, time= 0.59sec, best_epoch=  315\n",
      "epoch= 350, train_loss= 1.0838, test_loss= 1.0597, time= 0.69sec, best_epoch=  315\n",
      "epoch= 360, train_loss= 1.0809, test_loss= 1.0497, time= 0.69sec, best_epoch=  315\n",
      "epoch= 370, train_loss= 1.0899, test_loss= 1.0739, time= 0.58sec, best_epoch=  315\n",
      "epoch= 380, train_loss= 1.0856, test_loss= 1.0762, time= 0.68sec, best_epoch=  315\n",
      "epoch= 390, train_loss= 1.0755, test_loss= 1.0511, time= 0.68sec, best_epoch=  315\n",
      "epoch= 400, train_loss= 1.0766, test_loss= 1.0494, time= 0.58sec, best_epoch=  315\n",
      "epoch= 410, train_loss= 1.0841, test_loss= 1.0729, time= 0.68sec, best_epoch=  401\n",
      "epoch= 420, train_loss= 1.0787, test_loss= 1.0336, time= 0.59sec, best_epoch=  401\n",
      "epoch= 430, train_loss= 1.0792, test_loss= 1.0512, time= 0.68sec, best_epoch=  429\n",
      "epoch= 440, train_loss= 1.0691, test_loss= 1.0635, time= 0.69sec, best_epoch=  429\n",
      "epoch= 450, train_loss= 1.0630, test_loss= 1.0495, time= 0.58sec, best_epoch=  429\n",
      "epoch= 460, train_loss= 1.0620, test_loss= 1.0770, time= 0.68sec, best_epoch=  458\n",
      "epoch= 470, train_loss= 1.0711, test_loss= 1.0561, time= 0.68sec, best_epoch=  458\n",
      "epoch= 480, train_loss= 1.0858, test_loss= 1.0581, time= 0.58sec, best_epoch=  458\n",
      "epoch= 490, train_loss= 1.0741, test_loss= 1.0425, time= 0.68sec, best_epoch=  458\n",
      "epoch= 500, train_loss= 1.0765, test_loss= 1.0687, time= 0.67sec, best_epoch=  458\n",
      "epoch= 510, train_loss= 1.0786, test_loss= 1.0564, time= 0.59sec, best_epoch=  458\n",
      "epoch= 520, train_loss= 1.0865, test_loss= 1.0492, time= 0.67sec, best_epoch=  458\n",
      "epoch= 530, train_loss= 1.0666, test_loss= 1.0357, time= 0.68sec, best_epoch=  458\n",
      "epoch= 540, train_loss= 1.0737, test_loss= 1.0461, time= 0.58sec, best_epoch=  458\n",
      "epoch= 550, train_loss= 1.0815, test_loss= 1.0472, time= 0.68sec, best_epoch=  458\n",
      "epoch= 560, train_loss= 1.0959, test_loss= 1.0477, time= 0.68sec, best_epoch=  458\n",
      "epoch= 570, train_loss= 1.0855, test_loss= 1.0468, time= 0.59sec, best_epoch=  458\n",
      "epoch= 580, train_loss= 1.0666, test_loss= 1.0326, time= 0.68sec, best_epoch=  458\n",
      "epoch= 590, train_loss= 1.0745, test_loss= 1.0598, time= 0.68sec, best_epoch=  458\n",
      "epoch= 600, train_loss= 1.0588, test_loss= 1.0563, time= 0.58sec, best_epoch=  458\n",
      "epoch= 610, train_loss= 1.0660, test_loss= 1.0585, time= 0.68sec, best_epoch=  458\n",
      "epoch= 620, train_loss= 1.0801, test_loss= 1.0665, time= 0.68sec, best_epoch=  458\n",
      "epoch= 630, train_loss= 1.0904, test_loss= 1.0626, time= 0.58sec, best_epoch=  458\n",
      "epoch= 640, train_loss= 1.0726, test_loss= 1.0629, time= 0.68sec, best_epoch=  458\n",
      "epoch= 650, train_loss= 1.0687, test_loss= 1.0675, time= 0.68sec, best_epoch=  458\n",
      "epoch= 660, train_loss= 1.0772, test_loss= 1.0558, time= 0.58sec, best_epoch=  458\n",
      "epoch= 670, train_loss= 1.0779, test_loss= 1.0581, time= 0.68sec, best_epoch=  458\n",
      "epoch= 680, train_loss= 1.0785, test_loss= 1.0724, time= 0.68sec, best_epoch=  458\n",
      "epoch= 690, train_loss= 1.0746, test_loss= 1.0395, time= 0.59sec, best_epoch=  458\n",
      "epoch= 700, train_loss= 1.0693, test_loss= 1.0581, time= 0.68sec, best_epoch=  458\n",
      "epoch= 710, train_loss= 1.0696, test_loss= 1.0597, time= 0.67sec, best_epoch=  705\n",
      "epoch= 720, train_loss= 1.0697, test_loss= 1.0614, time= 0.58sec, best_epoch=  705\n",
      "epoch= 730, train_loss= 1.0521, test_loss= 1.0673, time= 0.68sec, best_epoch=  705\n",
      "epoch= 740, train_loss= 1.0771, test_loss= 1.0476, time= 0.67sec, best_epoch=  705\n",
      "epoch= 750, train_loss= 1.0834, test_loss= 1.0482, time= 0.58sec, best_epoch=  705\n",
      "epoch= 760, train_loss= 1.0805, test_loss= 1.0439, time= 0.67sec, best_epoch=  705\n",
      "epoch= 770, train_loss= 1.0665, test_loss= 1.0659, time= 0.68sec, best_epoch=  705\n",
      "epoch= 780, train_loss= 1.0809, test_loss= 1.0336, time= 0.59sec, best_epoch=  705\n",
      "epoch= 790, train_loss= 1.0610, test_loss= 1.0494, time= 0.68sec, best_epoch=  705\n",
      "epoch= 800, train_loss= 1.0679, test_loss= 1.0207, time= 0.58sec, best_epoch=  705\n",
      "epoch= 810, train_loss= 1.0706, test_loss= 1.0381, time= 0.67sec, best_epoch=  705\n",
      "epoch= 820, train_loss= 1.0684, test_loss= 1.0488, time= 0.67sec, best_epoch=  705\n",
      "epoch= 830, train_loss= 1.0662, test_loss= 1.0453, time= 0.58sec, best_epoch=  705\n",
      "epoch= 840, train_loss= 1.0901, test_loss= 1.0370, time= 0.69sec, best_epoch=  705\n",
      "epoch= 850, train_loss= 1.0810, test_loss= 1.0356, time= 0.68sec, best_epoch=  705\n",
      "epoch= 860, train_loss= 1.0740, test_loss= 1.0348, time= 0.58sec, best_epoch=  705\n",
      "epoch= 870, train_loss= 1.0646, test_loss= 1.0611, time= 0.68sec, best_epoch=  705\n",
      "epoch= 880, train_loss= 1.0766, test_loss= 1.0496, time= 0.68sec, best_epoch=  705\n",
      "epoch= 890, train_loss= 1.0530, test_loss= 1.0286, time= 0.59sec, best_epoch=  705\n",
      "epoch= 900, train_loss= 1.0755, test_loss= 1.0567, time= 0.69sec, best_epoch=  705\n",
      "epoch= 910, train_loss= 1.0655, test_loss= 1.0381, time= 0.67sec, best_epoch=  705\n",
      "epoch= 920, train_loss= 1.0821, test_loss= 1.0183, time= 0.58sec, best_epoch=  705\n",
      "epoch= 930, train_loss= 1.0531, test_loss= 1.0557, time= 0.68sec, best_epoch=  705\n",
      "epoch= 940, train_loss= 1.0766, test_loss= 1.0404, time= 0.69sec, best_epoch=  705\n",
      "epoch= 950, train_loss= 1.0561, test_loss= 1.0569, time= 0.58sec, best_epoch=  705\n",
      "epoch= 960, train_loss= 1.0721, test_loss= 1.0744, time= 0.68sec, best_epoch=  705\n",
      "epoch= 970, train_loss= 1.0679, test_loss= 1.0611, time= 0.69sec, best_epoch=  705\n",
      "epoch= 980, train_loss= 1.0712, test_loss= 1.0689, time= 0.59sec, best_epoch=  705\n",
      "epoch= 990, train_loss= 1.0569, test_loss= 1.0398, time= 0.69sec, best_epoch=  705\n",
      "best_test_loss= 1.0098, best_epoch=  705, time= 77.95sec\n"
     ]
    },
    {
     "data": {
      "image/png": "[encoded data removed]",
      "text/plain": [
       "<Figure size 432x288 with 1 Axes>"
      ]
     },
     "metadata": {
      "needs_background": "light"
     },
     "output_type": "display_data"
    },
    {
     "data": {
      "text/plain": [
       "1.0098358988761902"
      ]
     },
     "execution_count": 55,
     "metadata": {},
     "output_type": "execute_result"
    }
   ],
   "source": [
    "singal_train_CNN()"
   ]
  },
  {
   "cell_type": "code",
   "execution_count": 21,
   "metadata": {},
   "outputs": [
    {
     "name": "stdout",
     "output_type": "stream",
     "text": [
      "Total number of parameters: 43233\n"
     ]
    }
   ],
   "source": [
    "model = CNN(1, TIME_LENGTH, INPUT_SIZE, 1, 32, [9, 7, 5, 3], 0.5)\n",
    "total_params = sum(p.numel() for p in model.parameters() if p.requires_grad)\n",
    "print(f'Total number of parameters: {total_params}')"
   ]
  },
  {
   "cell_type": "code",
   "execution_count": 1,
   "metadata": {},
   "outputs": [
    {
     "name": "stdout",
     "output_type": "stream",
     "text": [
      "转移矩阵（概率形式）:\n",
      "[[0.26983051 0.55186441 0.08067797 0.09762712]\n",
      " [0.2121134  0.59742268 0.09201031 0.09845361]\n",
      " [0.18041237 0.63230241 0.104811   0.08247423]\n",
      " [0.23017107 0.59253499 0.06998445 0.10730949]]\n"
     ]
    }
   ],
   "source": [
    "import numpy as np\n",
    "from collections import defaultdict\n",
    "y = np.load('MigFaceLabel_400_16.npy')\n",
    "labels = y[:,2]\n",
    "states = list(set(labels))\n",
    "n = len(states)\n",
    "state_index = {state: i for i, state in enumerate(states)}\n",
    "\n",
    "transition_matrix = np.zeros((n, n))\n",
    "\n",
    "for (current_state, next_state) in zip(labels[:-1], labels[1:]):\n",
    "    transition_matrix[state_index[current_state]][state_index[next_state]] += 1\n",
    "transition_prob_matrix = transition_matrix / transition_matrix.sum(axis=1, keepdims=True)\n",
    "\n",
    "print(\"转移矩阵（概率形式）:\")\n",
    "print(transition_prob_matrix)\n"
   ]
  },
  {
   "cell_type": "code",
   "execution_count": 17,
   "metadata": {},
   "outputs": [
    {
     "data": {
      "image/png": "[encoded data removed]",
      "text/plain": [
       "<Figure size 576x432 with 2 Axes>"
      ]
     },
     "metadata": {
      "needs_background": "light"
     },
     "output_type": "display_data"
    }
   ],
   "source": [
    "plt.figure(figsize=(8, 6))\n",
    "plt.imshow(transition_prob_matrix, cmap='viridis')  # 使用'viridis'颜色图\n",
    "plt.colorbar()  # 显示颜色条\n",
    "plt.xticks(np.arange(transition_prob_matrix.shape[1]), range(transition_prob_matrix.shape[1]))  # 设置x轴标签\n",
    "plt.yticks(np.arange(transition_prob_matrix.shape[0]), range(transition_prob_matrix.shape[0]))  # 设置y轴标签\n",
    "plt.show()"
   ]
  },
  {
   "cell_type": "markdown",
   "metadata": {},
   "source": [
    "# 用一些机器学习方法写的"
   ]
  },
  {
   "cell_type": "code",
   "execution_count": 20,
   "metadata": {},
   "outputs": [
    {
     "name": "stdout",
     "output_type": "stream",
     "text": [
      "[   464    516    565 ... 999349 999415 999514]\n",
      "6581\n"
     ]
    },
    {
     "name": "stderr",
     "output_type": "stream",
     "text": [
      "/root/miniconda3/lib/python3.8/site-packages/sklearn/preprocessing/_encoders.py:975: FutureWarning: `sparse` was renamed to `sparse_output` in version 1.2 and will be removed in 1.4. `sparse_output` is ignored unless you leave `sparse` to its default value.\n",
      "  warnings.warn(\n"
     ]
    }
   ],
   "source": [
    "y = np.load('MigFaceLabel_400_16.npy')\n",
    "index = y[:,0]\n",
    "# label = original_data.get_migration_label(Temperature)\n",
    "# index = np.where(label[TIME_LENGTH//2 : -TIME_LENGTH//2])[0] + TIME_LENGTH//2\n",
    "data_num = len(index)\n",
    "\n",
    "print(index)\n",
    "print(data_num)\n",
    "\n",
    "t, msd, csp, xyz, r_, v_xyz, v_, angle = get_original_data(PATH)\n",
    "sample_size = len(t)\n",
    "\n",
    "data = np.hstack((\n",
    "    # msd.reshape((sample_size, 1)), \n",
    "    csp, \n",
    "    xyz, \n",
    "    # r_.reshape((sample_size, 1)), \n",
    "    v_xyz, \n",
    "    # v_.reshape((sample_size, 1)), \n",
    "    angle, \n",
    "    # g\n",
    "))\n",
    "scaler = StandardScaler()\n",
    "data = scaler.fit_transform(data)\n",
    "data_X = torch.from_numpy(data)\n",
    "# print(data_X.shape)\n",
    "# data_Y = torch.from_numpy(csp[:,5])\n",
    "y = y[:,2].reshape(-1,1)\n",
    "encoder = OneHotEncoder(sparse=False)\n",
    "one_hot = encoder.fit_transform(y)\n",
    "data_Y = torch.from_numpy(one_hot)\n",
    "# r_ = torch.from_numpy(r_)\n",
    "# mean_r = torch.mean(r_)\n",
    "# std_r = torch.std(r_)\n",
    "# data_Y = torch.normal(mean=mean_r, std=std_r, size=r_.size())\n",
    "\n",
    "    \n"
   ]
  },
  {
   "cell_type": "code",
   "execution_count": 78,
   "metadata": {},
   "outputs": [],
   "source": [
    "X = torch.zeros(data_num-1, TIME_LENGTH, INPUT_SIZE)\n",
    "Y = torch.zeros(data_num-1, 4)\n",
    "\n",
    "for i in range(data_num-1):\n",
    "    X[i, :, :] = data_X[index[i]-TIME_LENGTH//2 : index[i]+TIME_LENGTH//2]\n",
    "    Y[i, :]       = data_Y[i+1]\n",
    "\n",
    "X = X.float() # [Batch_size, C, H, W]\n",
    "Y = Y.float() # [Batch_size, H_out]\n",
    "\n",
    "shuffled_index = np.random.permutation(range(data_num-1))\n",
    "X = X[shuffled_index]\n",
    "X = X.reshape(data_num-1, -1)\n",
    "# X = torch.cat((X, data_Y[:-1]), dim=-1)\n",
    "X = data_Y[:-1]\n",
    "Y = Y[shuffled_index]\n",
    "Train_X, Test_X = X[:int(data_num*0.8)], X[int(data_num*0.8):]\n",
    "Train_Y, Test_Y = Y[:int(data_num*0.8)], Y[int(data_num*0.8):]"
   ]
  },
  {
   "cell_type": "code",
   "execution_count": 80,
   "metadata": {},
   "outputs": [],
   "source": [
    "from sklearn.ensemble import RandomForestClassifier\n",
    "from sklearn.metrics import f1_score, roc_auc_score, accuracy_score\n",
    "import numpy as np\n"
   ]
  },
  {
   "cell_type": "code",
   "execution_count": 81,
   "metadata": {},
   "outputs": [],
   "source": [
    "rf_model = RandomForestClassifier(n_estimators=100, random_state=42)"
   ]
  },
  {
   "cell_type": "code",
   "execution_count": 82,
   "metadata": {},
   "outputs": [
    {
     "data": {
      "text/html": [
       "<style>#sk-container-id-2 {color: black;}#sk-container-id-2 pre{padding: 0;}#sk-container-id-2 div.sk-toggleable {background-color: white;}#sk-container-id-2 label.sk-toggleable__label {cursor: pointer;display: block;width: 100%;margin-bottom: 0;padding: 0.3em;box-sizing: border-box;text-align: center;}#sk-container-id-2 label.sk-toggleable__label-arrow:before {content: \"▸\";float: left;margin-right: 0.25em;color: #696969;}#sk-container-id-2 label.sk-toggleable__label-arrow:hover:before {color: black;}#sk-container-id-2 div.sk-estimator:hover label.sk-toggleable__label-arrow:before {color: black;}#sk-container-id-2 div.sk-toggleable__content {max-height: 0;max-width: 0;overflow: hidden;text-align: left;background-color: #f0f8ff;}#sk-container-id-2 div.sk-toggleable__content pre {margin: 0.2em;color: black;border-radius: 0.25em;background-color: #f0f8ff;}#sk-container-id-2 input.sk-toggleable__control:checked~div.sk-toggleable__content {max-height: 200px;max-width: 100%;overflow: auto;}#sk-container-id-2 input.sk-toggleable__control:checked~label.sk-toggleable__label-arrow:before {content: \"▾\";}#sk-container-id-2 div.sk-estimator input.sk-toggleable__control:checked~label.sk-toggleable__label {background-color: #d4ebff;}#sk-container-id-2 div.sk-label input.sk-toggleable__control:checked~label.sk-toggleable__label {background-color: #d4ebff;}#sk-container-id-2 input.sk-hidden--visually {border: 0;clip: rect(1px 1px 1px 1px);clip: rect(1px, 1px, 1px, 1px);height: 1px;margin: -1px;overflow: hidden;padding: 0;position: absolute;width: 1px;}#sk-container-id-2 div.sk-estimator {font-family: monospace;background-color: #f0f8ff;border: 1px dotted black;border-radius: 0.25em;box-sizing: border-box;margin-bottom: 0.5em;}#sk-container-id-2 div.sk-estimator:hover {background-color: #d4ebff;}#sk-container-id-2 div.sk-parallel-item::after {content: \"\";width: 100%;border-bottom: 1px solid gray;flex-grow: 1;}#sk-container-id-2 div.sk-label:hover label.sk-toggleable__label {background-color: #d4ebff;}#sk-container-id-2 div.sk-serial::before {content: \"\";position: absolute;border-left: 1px solid gray;box-sizing: border-box;top: 0;bottom: 0;left: 50%;z-index: 0;}#sk-container-id-2 div.sk-serial {display: flex;flex-direction: column;align-items: center;background-color: white;padding-right: 0.2em;padding-left: 0.2em;position: relative;}#sk-container-id-2 div.sk-item {position: relative;z-index: 1;}#sk-container-id-2 div.sk-parallel {display: flex;align-items: stretch;justify-content: center;background-color: white;position: relative;}#sk-container-id-2 div.sk-item::before, #sk-container-id-2 div.sk-parallel-item::before {content: \"\";position: absolute;border-left: 1px solid gray;box-sizing: border-box;top: 0;bottom: 0;left: 50%;z-index: -1;}#sk-container-id-2 div.sk-parallel-item {display: flex;flex-direction: column;z-index: 1;position: relative;background-color: white;}#sk-container-id-2 div.sk-parallel-item:first-child::after {align-self: flex-end;width: 50%;}#sk-container-id-2 div.sk-parallel-item:last-child::after {align-self: flex-start;width: 50%;}#sk-container-id-2 div.sk-parallel-item:only-child::after {width: 0;}#sk-container-id-2 div.sk-dashed-wrapped {border: 1px dashed gray;margin: 0 0.4em 0.5em 0.4em;box-sizing: border-box;padding-bottom: 0.4em;background-color: white;}#sk-container-id-2 div.sk-label label {font-family: monospace;font-weight: bold;display: inline-block;line-height: 1.2em;}#sk-container-id-2 div.sk-label-container {text-align: center;}#sk-container-id-2 div.sk-container {/* jupyter's `normalize.less` sets `[hidden] { display: none; }` but bootstrap.min.css set `[hidden] { display: none !important; }` so we also need the `!important` here to be able to override the default hidden behavior on the sphinx rendered scikit-learn.org. See: https://github.com/scikit-learn/scikit-learn/issues/21755 */display: inline-block !important;position: relative;}#sk-container-id-2 div.sk-text-repr-fallback {display: none;}</style><div id=\"sk-container-id-2\" class=\"sk-top-container\"><div class=\"sk-text-repr-fallback\"><pre>RandomForestClassifier(random_state=42)</pre><b>In a Jupyter environment, please rerun this cell to show the HTML representation or trust the notebook. <br />On GitHub, the HTML representation is unable to render, please try loading this page with nbviewer.org.</b></div><div class=\"sk-container\" hidden><div class=\"sk-item\"><div class=\"sk-estimator sk-toggleable\"><input class=\"sk-toggleable__control sk-hidden--visually\" id=\"sk-estimator-id-2\" type=\"checkbox\" checked><label for=\"sk-estimator-id-2\" class=\"sk-toggleable__label sk-toggleable__label-arrow\">RandomForestClassifier</label><div class=\"sk-toggleable__content\"><pre>RandomForestClassifier(random_state=42)</pre></div></div></div></div></div>"
      ],
      "text/plain": [
       "RandomForestClassifier(random_state=42)"
      ]
     },
     "execution_count": 82,
     "metadata": {},
     "output_type": "execute_result"
    }
   ],
   "source": [
    "rf_model.fit(Train_X, Train_Y)"
   ]
  },
  {
   "cell_type": "code",
   "execution_count": 83,
   "metadata": {},
   "outputs": [],
   "source": [
    "predictions = rf_model.predict(Test_X)"
   ]
  },
  {
   "cell_type": "code",
   "execution_count": 94,
   "metadata": {},
   "outputs": [
    {
     "data": {
      "text/plain": [
       "4"
      ]
     },
     "execution_count": 94,
     "metadata": {},
     "output_type": "execute_result"
    }
   ],
   "source": [
    "len(rf_model.predict_proba(Test_X))"
   ]
  },
  {
   "cell_type": "code",
   "execution_count": 84,
   "metadata": {},
   "outputs": [
    {
     "name": "stdout",
     "output_type": "stream",
     "text": [
      "F1 test Score: 0.4265\n",
      "F1 train Score: 0.4404\n"
     ]
    }
   ],
   "source": [
    "from sklearn.metrics import f1_score\n",
    "f1_test = f1_score(Test_Y, predictions, average='weighted')\n",
    "f1_train = f1_score(Train_Y, rf_model.predict(Train_X), average='weighted')\n",
    "print(f'F1 test Score: {f1_test:.4f}')\n",
    "print(f'F1 train Score: {f1_train:.4f}')"
   ]
  },
  {
   "cell_type": "code",
   "execution_count": 85,
   "metadata": {},
   "outputs": [
    {
     "name": "stdout",
     "output_type": "stream",
     "text": [
      "precision Score: 0.3370\n",
      "recall Score: 0.5805\n"
     ]
    },
    {
     "name": "stderr",
     "output_type": "stream",
     "text": [
      "/root/miniconda3/lib/python3.8/site-packages/sklearn/metrics/_classification.py:1471: UndefinedMetricWarning: Precision is ill-defined and being set to 0.0 in labels with no predicted samples. Use `zero_division` parameter to control this behavior.\n",
      "  _warn_prf(average, modifier, msg_start, len(result))\n"
     ]
    }
   ],
   "source": [
    "from sklearn.metrics import precision_score, recall_score\n",
    "\n",
    "precision = precision_score(Test_Y, predictions, average='weighted')  # 或者 'weighted'\n",
    "recall = recall_score(Test_Y, predictions, average='weighted')  # 或者 'weighted'\n",
    "print(f'precision Score: {precision:.4f}')\n",
    "print(f'recall Score: {recall:.4f}')"
   ]
  },
  {
   "cell_type": "code",
   "execution_count": 86,
   "metadata": {},
   "outputs": [
    {
     "data": {
      "image/png": "[encoded data removed]",
      "text/plain": [
       "<Figure size 720x720 with 2 Axes>"
      ]
     },
     "metadata": {
      "needs_background": "light"
     },
     "output_type": "display_data"
    }
   ],
   "source": [
    "import numpy as np\n",
    "import matplotlib.pyplot as plt\n",
    "from sklearn.metrics import confusion_matrix\n",
    "import seaborn as sns\n",
    "\n",
    "labels_true = np.argmax(Test_Y, axis=1)\n",
    "labels_pred = np.argmax(predictions, axis=1)\n",
    "conf_matrix = confusion_matrix(labels_true, labels_pred)\n",
    "\n",
    "# 使用 Seaborn 绘制混淆矩阵的热图\n",
    "plt.figure(figsize=(10, 10))\n",
    "sns.heatmap(conf_matrix, annot=True, fmt='d', cmap='Blues')\n",
    "plt.title('Confusion Matrix')\n",
    "plt.xlabel('Predicted Label')\n",
    "plt.ylabel('True Label')\n",
    "\n",
    "# 显示图形\n",
    "plt.show()"
   ]
  },
  {
   "cell_type": "code",
   "execution_count": 88,
   "metadata": {},
   "outputs": [
    {
     "data": {
      "text/plain": [
       "array([[0., 1., 0., 0.],\n",
       "       [0., 1., 0., 0.],\n",
       "       [0., 1., 0., 0.],\n",
       "       ...,\n",
       "       [0., 1., 0., 0.],\n",
       "       [0., 1., 0., 0.],\n",
       "       [0., 1., 0., 0.]], dtype=float32)"
      ]
     },
     "execution_count": 88,
     "metadata": {},
     "output_type": "execute_result"
    }
   ],
   "source": [
    "predictions"
   ]
  },
  {
   "cell_type": "code",
   "execution_count": 95,
   "metadata": {},
   "outputs": [
    {
     "name": "stdout",
     "output_type": "stream",
     "text": [
      "Looking in indexes: http://mirrors.aliyun.com/pypi/simple\n",
      "Collecting sklearn-crfsuite\n",
      "  Downloading http://mirrors.aliyun.com/pypi/packages/25/74/5b7befa513482e6dee1f3dd68171a6c9dfc14c0eaa00f885ffeba54fe9b0/sklearn_crfsuite-0.3.6-py2.py3-none-any.whl (12 kB)\n",
      "Requirement already satisfied: six in /root/miniconda3/lib/python3.8/site-packages (from sklearn-crfsuite) (1.16.0)\n",
      "Collecting python-crfsuite>=0.8.3\n",
      "  Downloading http://mirrors.aliyun.com/pypi/packages/9b/30/0d0c05b745ea3334e8995725c1d5298c4f6b4acfcd34ce49d80abd4856cb/python_crfsuite-0.9.10-cp38-cp38-manylinux_2_17_x86_64.manylinux2014_x86_64.whl (1.1 MB)\n",
      "\u001b[K     |████████████████████████████████| 1.1 MB 2.9 MB/s eta 0:00:01\n",
      "\u001b[?25hCollecting tabulate\n",
      "  Downloading http://mirrors.aliyun.com/pypi/packages/40/44/4a5f08c96eb108af5cb50b41f76142f0afa346dfa99d5296fe7202a11854/tabulate-0.9.0-py3-none-any.whl (35 kB)\n",
      "Requirement already satisfied: tqdm>=2.0 in /root/miniconda3/lib/python3.8/site-packages (from sklearn-crfsuite) (4.61.2)\n",
      "Installing collected packages: tabulate, python-crfsuite, sklearn-crfsuite\n",
      "Successfully installed python-crfsuite-0.9.10 sklearn-crfsuite-0.3.6 tabulate-0.9.0\n",
      "\u001b[33mWARNING: Running pip as the 'root' user can result in broken permissions and conflicting behaviour with the system package manager. It is recommended to use a virtual environment instead: https://pip.pypa.io/warnings/venv\u001b[0m\n",
      "Note: you may need to restart the kernel to use updated packages.\n"
     ]
    }
   ],
   "source": [
    "pip install sklearn-crfsuite"
   ]
  },
  {
   "cell_type": "code",
   "execution_count": 96,
   "metadata": {},
   "outputs": [
    {
     "ename": "SystemError",
     "evalue": "<method 'dim' of 'torch._C._TensorBase' objects> returned a result with an error set",
     "output_type": "error",
     "traceback": [
      "\u001b[0;31m---------------------------------------------------------------------------\u001b[0m",
      "\u001b[0;31mTypeError\u001b[0m                                 Traceback (most recent call last)",
      "File \u001b[0;32mpycrfsuite/_pycrfsuite.pyx:48\u001b[0m, in \u001b[0;36mpycrfsuite._pycrfsuite.to_item\u001b[0;34m()\u001b[0m\n",
      "File \u001b[0;32m~/miniconda3/lib/python3.8/site-packages/torch/_tensor.py:680\u001b[0m, in \u001b[0;36mTensor.__len__\u001b[0;34m(self)\u001b[0m\n\u001b[1;32m    679\u001b[0m \u001b[38;5;28;01mif\u001b[39;00m \u001b[38;5;28mself\u001b[39m\u001b[38;5;241m.\u001b[39mdim() \u001b[38;5;241m==\u001b[39m \u001b[38;5;241m0\u001b[39m:\n\u001b[0;32m--> 680\u001b[0m     \u001b[38;5;28;01mraise\u001b[39;00m \u001b[38;5;167;01mTypeError\u001b[39;00m(\u001b[38;5;124m\"\u001b[39m\u001b[38;5;124mlen() of a 0-d tensor\u001b[39m\u001b[38;5;124m\"\u001b[39m)\n\u001b[1;32m    681\u001b[0m \u001b[38;5;28;01mif\u001b[39;00m torch\u001b[38;5;241m.\u001b[39m_C\u001b[38;5;241m.\u001b[39m_get_tracing_state():\n",
      "\u001b[0;31mTypeError\u001b[0m: len() of a 0-d tensor",
      "\nThe above exception was the direct cause of the following exception:\n",
      "\u001b[0;31mSystemError\u001b[0m                               Traceback (most recent call last)",
      "File \u001b[0;32mpycrfsuite/_pycrfsuite.pyx:48\u001b[0m, in \u001b[0;36mpycrfsuite._pycrfsuite.to_item\u001b[0;34m()\u001b[0m\n",
      "File \u001b[0;32m~/miniconda3/lib/python3.8/site-packages/torch/_tensor.py:677\u001b[0m, in \u001b[0;36mTensor.__len__\u001b[0;34m(self)\u001b[0m\n\u001b[1;32m    676\u001b[0m \u001b[38;5;28;01mdef\u001b[39;00m \u001b[38;5;21m__len__\u001b[39m(\u001b[38;5;28mself\u001b[39m):\n\u001b[0;32m--> 677\u001b[0m     \u001b[38;5;28;01mif\u001b[39;00m \u001b[43mhas_torch_function_unary\u001b[49m\u001b[43m(\u001b[49m\u001b[38;5;28;43mself\u001b[39;49m\u001b[43m)\u001b[49m:\n\u001b[1;32m    678\u001b[0m         \u001b[38;5;28;01mreturn\u001b[39;00m handle_torch_function(Tensor\u001b[38;5;241m.\u001b[39m\u001b[38;5;21m__len__\u001b[39m, (\u001b[38;5;28mself\u001b[39m,), \u001b[38;5;28mself\u001b[39m)\n",
      "\u001b[0;31mSystemError\u001b[0m: <built-in function _has_torch_function_unary> returned a result with an error set",
      "\nThe above exception was the direct cause of the following exception:\n",
      "\u001b[0;31mSystemError\u001b[0m                               Traceback (most recent call last)",
      "File \u001b[0;32mpycrfsuite/_pycrfsuite.pyx:48\u001b[0m, in \u001b[0;36mpycrfsuite._pycrfsuite.to_item\u001b[0;34m()\u001b[0m\n",
      "File \u001b[0;32m~/miniconda3/lib/python3.8/site-packages/torch/_tensor.py:677\u001b[0m, in \u001b[0;36mTensor.__len__\u001b[0;34m(self)\u001b[0m\n\u001b[1;32m    676\u001b[0m \u001b[38;5;28;01mdef\u001b[39;00m \u001b[38;5;21m__len__\u001b[39m(\u001b[38;5;28mself\u001b[39m):\n\u001b[0;32m--> 677\u001b[0m     \u001b[38;5;28;01mif\u001b[39;00m \u001b[43mhas_torch_function_unary\u001b[49m\u001b[43m(\u001b[49m\u001b[38;5;28;43mself\u001b[39;49m\u001b[43m)\u001b[49m:\n\u001b[1;32m    678\u001b[0m         \u001b[38;5;28;01mreturn\u001b[39;00m handle_torch_function(Tensor\u001b[38;5;241m.\u001b[39m\u001b[38;5;21m__len__\u001b[39m, (\u001b[38;5;28mself\u001b[39m,), \u001b[38;5;28mself\u001b[39m)\n",
      "\u001b[0;31mSystemError\u001b[0m: <built-in function _has_torch_function_unary> returned a result with an error set",
      "\nThe above exception was the direct cause of the following exception:\n",
      "\u001b[0;31mSystemError\u001b[0m                               Traceback (most recent call last)",
      "File \u001b[0;32mpycrfsuite/_pycrfsuite.pyx:108\u001b[0m, in \u001b[0;36mpycrfsuite._pycrfsuite.to_seq\u001b[0;34m()\u001b[0m\n",
      "File \u001b[0;32mpycrfsuite/_pycrfsuite.pyx:48\u001b[0m, in \u001b[0;36mpycrfsuite._pycrfsuite.to_item\u001b[0;34m()\u001b[0m\n",
      "File \u001b[0;32m~/miniconda3/lib/python3.8/site-packages/torch/_tensor.py:677\u001b[0m, in \u001b[0;36mTensor.__len__\u001b[0;34m(self)\u001b[0m\n\u001b[1;32m    676\u001b[0m \u001b[38;5;28;01mdef\u001b[39;00m \u001b[38;5;21m__len__\u001b[39m(\u001b[38;5;28mself\u001b[39m):\n\u001b[0;32m--> 677\u001b[0m     \u001b[38;5;28;01mif\u001b[39;00m \u001b[43mhas_torch_function_unary\u001b[49m\u001b[43m(\u001b[49m\u001b[38;5;28;43mself\u001b[39;49m\u001b[43m)\u001b[49m:\n\u001b[1;32m    678\u001b[0m         \u001b[38;5;28;01mreturn\u001b[39;00m handle_torch_function(Tensor\u001b[38;5;241m.\u001b[39m\u001b[38;5;21m__len__\u001b[39m, (\u001b[38;5;28mself\u001b[39m,), \u001b[38;5;28mself\u001b[39m)\n",
      "\u001b[0;31mSystemError\u001b[0m: <built-in function _has_torch_function_unary> returned a result with an error set",
      "\nThe above exception was the direct cause of the following exception:\n",
      "\u001b[0;31mSystemError\u001b[0m                               Traceback (most recent call last)",
      "Input \u001b[0;32mIn [96]\u001b[0m, in \u001b[0;36m<cell line: 7>\u001b[0;34m()\u001b[0m\n\u001b[1;32m      4\u001b[0m crf \u001b[38;5;241m=\u001b[39m CRF(algorithm\u001b[38;5;241m=\u001b[39m\u001b[38;5;124m'\u001b[39m\u001b[38;5;124mlbfgs\u001b[39m\u001b[38;5;124m'\u001b[39m, max_iterations\u001b[38;5;241m=\u001b[39m\u001b[38;5;241m100\u001b[39m, all_possible_transitions\u001b[38;5;241m=\u001b[39m\u001b[38;5;28;01mTrue\u001b[39;00m)\n\u001b[1;32m      6\u001b[0m \u001b[38;5;66;03m# 训练CRF模型\u001b[39;00m\n\u001b[0;32m----> 7\u001b[0m \u001b[43mcrf\u001b[49m\u001b[38;5;241;43m.\u001b[39;49m\u001b[43mfit\u001b[49m\u001b[43m(\u001b[49m\u001b[43mTrain_X\u001b[49m\u001b[43m,\u001b[49m\u001b[43m \u001b[49m\u001b[43mTrain_Y\u001b[49m\u001b[43m)\u001b[49m\n\u001b[1;32m      9\u001b[0m \u001b[38;5;66;03m# 预测测试数据\u001b[39;00m\n\u001b[1;32m     10\u001b[0m y_pred \u001b[38;5;241m=\u001b[39m crf\u001b[38;5;241m.\u001b[39mpredict(Test_X)\n",
      "File \u001b[0;32m~/miniconda3/lib/python3.8/site-packages/sklearn_crfsuite/estimator.py:314\u001b[0m, in \u001b[0;36mCRF.fit\u001b[0;34m(self, X, y, X_dev, y_dev)\u001b[0m\n\u001b[1;32m    311\u001b[0m     train_data \u001b[38;5;241m=\u001b[39m tqdm(train_data, \u001b[38;5;124m\"\u001b[39m\u001b[38;5;124mloading training data to CRFsuite\u001b[39m\u001b[38;5;124m\"\u001b[39m, \u001b[38;5;28mlen\u001b[39m(X), leave\u001b[38;5;241m=\u001b[39m\u001b[38;5;28;01mTrue\u001b[39;00m)\n\u001b[1;32m    313\u001b[0m \u001b[38;5;28;01mfor\u001b[39;00m xseq, yseq \u001b[38;5;129;01min\u001b[39;00m train_data:\n\u001b[0;32m--> 314\u001b[0m     \u001b[43mtrainer\u001b[49m\u001b[38;5;241;43m.\u001b[39;49m\u001b[43mappend\u001b[49m\u001b[43m(\u001b[49m\u001b[43mxseq\u001b[49m\u001b[43m,\u001b[49m\u001b[43m \u001b[49m\u001b[43myseq\u001b[49m\u001b[43m)\u001b[49m\n\u001b[1;32m    316\u001b[0m \u001b[38;5;28;01mif\u001b[39;00m \u001b[38;5;28mself\u001b[39m\u001b[38;5;241m.\u001b[39mverbose:\n\u001b[1;32m    317\u001b[0m     \u001b[38;5;28mprint\u001b[39m(\u001b[38;5;124m\"\u001b[39m\u001b[38;5;124m\"\u001b[39m)\n",
      "File \u001b[0;32mpycrfsuite/_pycrfsuite.pyx:312\u001b[0m, in \u001b[0;36mpycrfsuite._pycrfsuite.BaseTrainer.append\u001b[0;34m()\u001b[0m\n",
      "File \u001b[0;32m<stringsource>:47\u001b[0m, in \u001b[0;36mvector.from_py.__pyx_convert_vector_from_py_std_3a__3a_string\u001b[0;34m()\u001b[0m\n",
      "File \u001b[0;32m~/miniconda3/lib/python3.8/site-packages/torch/_tensor.py:697\u001b[0m, in \u001b[0;36mTensor.__iter__\u001b[0;34m(self)\u001b[0m\n\u001b[1;32m    688\u001b[0m \u001b[38;5;28;01mdef\u001b[39;00m \u001b[38;5;21m__iter__\u001b[39m(\u001b[38;5;28mself\u001b[39m):\n\u001b[1;32m    689\u001b[0m     \u001b[38;5;66;03m# NB: we use 'imap' and not 'map' here, so that in Python 2 we get a\u001b[39;00m\n\u001b[1;32m    690\u001b[0m     \u001b[38;5;66;03m# generator and don't eagerly perform all the indexes.  This could\u001b[39;00m\n\u001b[0;32m   (...)\u001b[0m\n\u001b[1;32m    695\u001b[0m     \u001b[38;5;66;03m# NB: We have intentionally skipped __torch_function__ dispatch here.\u001b[39;00m\n\u001b[1;32m    696\u001b[0m     \u001b[38;5;66;03m# See gh-54457\u001b[39;00m\n\u001b[0;32m--> 697\u001b[0m     \u001b[38;5;28;01mif\u001b[39;00m \u001b[38;5;28;43mself\u001b[39;49m\u001b[38;5;241;43m.\u001b[39;49m\u001b[43mdim\u001b[49m\u001b[43m(\u001b[49m\u001b[43m)\u001b[49m \u001b[38;5;241m==\u001b[39m \u001b[38;5;241m0\u001b[39m:\n\u001b[1;32m    698\u001b[0m         \u001b[38;5;28;01mraise\u001b[39;00m \u001b[38;5;167;01mTypeError\u001b[39;00m(\u001b[38;5;124m'\u001b[39m\u001b[38;5;124miteration over a 0-d tensor\u001b[39m\u001b[38;5;124m'\u001b[39m)\n\u001b[1;32m    699\u001b[0m     \u001b[38;5;28;01mif\u001b[39;00m torch\u001b[38;5;241m.\u001b[39m_C\u001b[38;5;241m.\u001b[39m_get_tracing_state():\n",
      "\u001b[0;31mSystemError\u001b[0m: <method 'dim' of 'torch._C._TensorBase' objects> returned a result with an error set"
     ]
    }
   ],
   "source": [
    "import pandas as pd\n",
    "from sklearn_crfsuite import CRF, metrics\n",
    "\n",
    "crf = CRF(algorithm='lbfgs', max_iterations=100, all_possible_transitions=True)\n",
    "\n",
    "# 训练CRF模型\n",
    "crf.fit(Train_X, Train_Y)\n",
    "\n",
    "# 预测测试数据\n",
    "y_pred = crf.predict(Test_X)\n",
    "\n",
    "# 评估模型性能\n",
    "print(metrics.flat_classification_report(Test_Y, y_pred))"
   ]
  },
  {
   "cell_type": "code",
   "execution_count": 97,
   "metadata": {},
   "outputs": [
    {
     "data": {
      "text/plain": [
       "torch.Size([5264, 4])"
      ]
     },
     "execution_count": 97,
     "metadata": {},
     "output_type": "execute_result"
    }
   ],
   "source": [
    "Train_X.shape"
   ]
  },
  {
   "cell_type": "code",
   "execution_count": 98,
   "metadata": {},
   "outputs": [
    {
     "data": {
      "text/plain": [
       "torch.Size([5264, 4])"
      ]
     },
     "execution_count": 98,
     "metadata": {},
     "output_type": "execute_result"
    }
   ],
   "source": [
    "Train_Y.shape"
   ]
  },
  {
   "cell_type": "code",
   "execution_count": null,
   "metadata": {},
   "outputs": [],
   "source": []
  }
 ],
 "metadata": {
  "kernelspec": {
   "display_name": "Python 3 (ipykernel)",
   "language": "python",
   "name": "python3"
  },
  "language_info": {
   "codemirror_mode": {
    "name": "ipython",
    "version": 3
   },
   "file_extension": ".py",
   "mimetype": "text/x-python",
   "name": "python",
   "nbconvert_exporter": "python",
   "pygments_lexer": "ipython3",
   "version": "3.8.10"
  },
  "vscode": {
   "interpreter": {
    "hash": "2178644948ca8f6100b95a371b10f0260d44de8cc03ff630ad6663632a74c268"
   }
  }
 },
 "nbformat": 4,
 "nbformat_minor": 4
}
